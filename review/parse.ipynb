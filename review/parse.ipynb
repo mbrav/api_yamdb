{
 "cells": [
  {
   "cell_type": "code",
   "execution_count": 1,
   "metadata": {},
   "outputs": [
    {
     "name": "stdout",
     "output_type": "stream",
     "text": [
      "Collecting beautifulsoup4\n",
      "  Downloading beautifulsoup4-4.10.0-py3-none-any.whl (97 kB)\n",
      "\u001b[K     |████████████████████████████████| 97 kB 1.3 MB/s \n",
      "\u001b[?25hCollecting soupsieve>1.2\n",
      "  Downloading soupsieve-2.3.1-py3-none-any.whl (37 kB)\n",
      "Installing collected packages: soupsieve, beautifulsoup4\n",
      "Successfully installed beautifulsoup4-4.10.0 soupsieve-2.3.1\n",
      "\u001b[33mWARNING: You are using pip version 21.2.3; however, version 21.3.1 is available.\n",
      "You should consider upgrading via the '/home/politburo/dev/praktikum/api_yamdb/venv/bin/python3 -m pip install --upgrade pip' command.\u001b[0m\n"
     ]
    }
   ],
   "source": [
    "!pip install beautifulsoup4\n"
   ]
  },
  {
   "cell_type": "code",
   "execution_count": 2,
   "metadata": {},
   "outputs": [],
   "source": [
    "from bs4 import BeautifulSoup\n"
   ]
  },
  {
   "cell_type": "code",
   "execution_count": 45,
   "metadata": {},
   "outputs": [],
   "source": [
    "file = open('review.html', 'r')\n",
    "reviews = BeautifulSoup(file.read(), 'html.parser')\n",
    "\n",
    "# print(reviews)\n",
    "rev_class = 'base-markdown'\n",
    "revs = []\n",
    "for review in reviews.find_all('div', rev_class):\n",
    "    rev_txt = review.find('div', 'paragraph').get_text()\n",
    "    rev_line = review.parent.parent.parent\n",
    "    rev_file = review.parent.parent.parent.parent.parent.parent.parent\n",
    "    rev_line_txt = rev_line.find('code').get_text()\n",
    "    file_name = rev_file.find('span', 'source-tree__file-name').get_text()\n",
    "\n",
    "    rev = {\n",
    "        'file': file_name,\n",
    "        'code': rev_line_txt,\n",
    "        'review': rev_txt,\n",
    "    }\n",
    "\n",
    "    revs.append(rev)\n"
   ]
  },
  {
   "cell_type": "code",
   "execution_count": 58,
   "metadata": {},
   "outputs": [],
   "source": [
    "\n",
    "markup = \"\"\n",
    "for rev in revs:\n",
    "    markup += f\"- **{rev['file']}** \\n\"\n",
    "    markup += f\"    - `{rev['code']}`\\n\"\n",
    "    markup += f\"    - *{rev['review']}*\\n\"\n",
    "    # for key, val in rev.items():\n",
    "    #     print(key, val)\n",
    "\n",
    "with open('review.md', 'w') as file:\n",
    "    file.write(markup)\n"
   ]
  }
 ],
 "metadata": {
  "interpreter": {
   "hash": "4392642e4d5995e21fb8fccb6733aafc064be2991a1971e1558dd92abb39ccfa"
  },
  "kernelspec": {
   "display_name": "Python 3.9.7 64-bit ('venv': venv)",
   "name": "python3"
  },
  "language_info": {
   "codemirror_mode": {
    "name": "ipython",
    "version": 3
   },
   "file_extension": ".py",
   "mimetype": "text/x-python",
   "name": "python",
   "nbconvert_exporter": "python",
   "pygments_lexer": "ipython3",
   "version": "3.9.7"
  },
  "orig_nbformat": 4
 },
 "nbformat": 4,
 "nbformat_minor": 2
}
